{
 "cells": [
  {
   "cell_type": "markdown",
   "metadata": {},
   "source": [
    "# LEARNING NUMPY\n"
   ]
  },
  {
   "cell_type": "code",
   "execution_count": 2,
   "metadata": {},
   "outputs": [
    {
     "name": "stdout",
     "output_type": "stream",
     "text": [
      "[1 2 4 5 6 7]\n"
     ]
    }
   ],
   "source": [
    "import numpy as np\n",
    "a=np.array([1,2,4,5,6,7,])\n",
    "print(a)"
   ]
  },
  {
   "cell_type": "markdown",
   "metadata": {},
   "source": [
    "## creating array "
   ]
  },
  {
   "cell_type": "code",
   "execution_count": 8,
   "metadata": {},
   "outputs": [
    {
     "name": "stdout",
     "output_type": "stream",
     "text": [
      "[2 5 5 8 2]\n"
     ]
    }
   ],
   "source": [
    "l=[]\n",
    "for i in range (0,5):\n",
    "    u=int(input(\"enter array:\"))\n",
    "    l.append(u)\n",
    "print(np.array(l))"
   ]
  },
  {
   "cell_type": "markdown",
   "metadata": {},
   "source": [
    "**dimentions in array**\n",
    "1. 1 dimention created by using []\n",
    "2. 2 dimention created by using [[]]\n",
    "3. 3 dimention created by using [[[]]]\n",
    "4. and so on \n",
    "- (.ndim) is used to find the dimention of array \n",
    "- (ndmin=x) is used to make n numbers of array"
   ]
  },
  {
   "cell_type": "code",
   "execution_count": 10,
   "metadata": {},
   "outputs": [
    {
     "name": "stdout",
     "output_type": "stream",
     "text": [
      "[[[[[[1 4 5 6 3]]]]]]\n",
      "6\n"
     ]
    }
   ],
   "source": [
    "n=np.array([1,4,5,6,3],ndmin=6)\n",
    "print(n)\n",
    "print(n.ndim)"
   ]
  },
  {
   "cell_type": "markdown",
   "metadata": {},
   "source": [
    "## Data type in numpy\n"
   ]
  },
  {
   "cell_type": "code",
   "execution_count": 4,
   "metadata": {},
   "outputs": [
    {
     "name": "stdout",
     "output_type": "stream",
     "text": [
      "int64\n"
     ]
    }
   ],
   "source": [
    "import numpy as np\n",
    "a=np.array([1,23,24,7,7,])\n",
    "print(a.dtype)"
   ]
  },
  {
   "cell_type": "code",
   "execution_count": 5,
   "metadata": {},
   "outputs": [
    {
     "name": "stdout",
     "output_type": "stream",
     "text": [
      "<U5\n"
     ]
    }
   ],
   "source": [
    "c=np.array([\"shubh\",\"harry\"])\n",
    "print(c.dtype)"
   ]
  },
  {
   "cell_type": "code",
   "execution_count": 14,
   "metadata": {},
   "outputs": [
    {
     "name": "stdout",
     "output_type": "stream",
     "text": [
      "[['1' '2' '4' '5' 'hii']\n",
      " ['2' '4' '5' '6' 'byy']]\n",
      "<U21\n"
     ]
    }
   ],
   "source": [
    "m=np.array([[1,2,4,5,\"hii\"],[2,4,5,6,\"byy\"]])\n",
    "print(m)\n",
    "print(m.dtype)"
   ]
  },
  {
   "cell_type": "markdown",
   "metadata": {},
   "source": [
    "**character used to represent data type in numpy**\n",
    "1. b=Boolean\n",
    "\n",
    "2. f=Float\n",
    "\n",
    "3. m=Time Delta\n",
    "\n",
    "4. O=Object\n",
    "\n",
    "5. U=Unicode String\n",
    "\n",
    "6. i=Integer\n",
    "\n",
    "7. u=Unsigned Integer\n",
    "\n",
    "8. c=Complex Float\n",
    "\n",
    "9. M=DateTime\n",
    "\n",
    "10. S=String\n",
    "\n",
    "11. V=A fixed chunk of memory for other types (void)\n"
   ]
  },
  {
   "cell_type": "code",
   "execution_count": 15,
   "metadata": {},
   "outputs": [
    {
     "name": "stdout",
     "output_type": "stream",
     "text": [
      "[1. 2. 3.]\n",
      "float32\n"
     ]
    }
   ],
   "source": [
    "x=np.array([1,2,3],dtype=\"f\")\n",
    "print(x)\n",
    "print(x.dtype)"
   ]
  },
  {
   "cell_type": "code",
   "execution_count": 17,
   "metadata": {},
   "outputs": [
    {
     "name": "stdout",
     "output_type": "stream",
     "text": [
      "[1. 2. 3.]\n",
      "float32\n"
     ]
    }
   ],
   "source": [
    "x=np.array([1,2,3])\n",
    "a=np.float32(x)\n",
    "print(a)\n",
    "print(a.dtype)"
   ]
  },
  {
   "cell_type": "markdown",
   "metadata": {},
   "source": [
    "## List of Arithmetic Operations\n",
    "1. Addition\t+\tadd()\n",
    "2. Subtraction\t-\tsubtract()\n",
    "3. Multiplication\t*\tmultiply()\n",
    "4. Division\t/\tdivide()\n",
    "5. Exponentiation\t**\tpower()\n",
    "6. Modulus\t%\tmod()"
   ]
  },
  {
   "cell_type": "code",
   "execution_count": null,
   "metadata": {},
   "outputs": [
    {
     "name": "stdout",
     "output_type": "stream",
     "text": [
      "Using the + operator: [ 3  7 11 15]\n",
      "Using the add() function: [ 3  7 11 15]\n"
     ]
    }
   ],
   "source": [
    "import numpy as np\n",
    "\n",
    "first_array = np.array([1, 3, 5, 7])\n",
    "second_array = np.array([2, 4, 6, 8])\n",
    "\n",
    "# using the + operator\n",
    "result1 = first_array + second_array\n",
    "print(\"Using the + operator:\",result1) \n",
    "\n",
    "# using the add() function\n",
    "result2 = np.add(first_array, second_array)\n",
    "print(\"Using the add() function:\",result2) "
   ]
  },
  {
   "cell_type": "markdown",
   "metadata": {},
   "source": [
    "## shape\n",
    "- The shape() method returns the shape of an array i.e. the number of elements in each dimension."
   ]
  },
  {
   "cell_type": "code",
   "execution_count": 2,
   "metadata": {},
   "outputs": [
    {
     "name": "stdout",
     "output_type": "stream",
     "text": [
      "(4,)\n",
      "[1 2 3 4]\n"
     ]
    }
   ],
   "source": [
    "a=np.array([1,2,3,4])\n",
    "print(a.shape)\n",
    "print(a)"
   ]
  },
  {
   "cell_type": "markdown",
   "metadata": {},
   "source": [
    "## Reshape\n",
    "- We use the reshape() function to reshape a 1D array into a 2D array"
   ]
  },
  {
   "cell_type": "code",
   "execution_count": 1,
   "metadata": {},
   "outputs": [
    {
     "name": "stdout",
     "output_type": "stream",
     "text": [
      "[[1 3 5 7]\n",
      " [2 4 6 8]]\n"
     ]
    }
   ],
   "source": [
    "import numpy as np\n",
    "\n",
    "array1 = np.array([1, 3, 5, 7, 2, 4, 6, 8])\n",
    "\n",
    "# reshape a 1D array into a 2D array \n",
    "# with 2 rows and 4 columns\n",
    "result = np.reshape(array1, (2, 4))\n",
    "print(result)"
   ]
  },
  {
   "cell_type": "markdown",
   "metadata": {},
   "source": [
    "## Broadcasting in array\n",
    "- we can perform mathematical operations on arrays of different shapes."
   ]
  },
  {
   "cell_type": "code",
   "execution_count": 3,
   "metadata": {},
   "outputs": [
    {
     "name": "stdout",
     "output_type": "stream",
     "text": [
      "[[2 3 4]\n",
      " [3 4 5]\n",
      " [4 5 6]]\n"
     ]
    }
   ],
   "source": [
    "import numpy as np\n",
    "\n",
    "# create 1-D array\n",
    "array1 = np.array([1, 2, 3])\n",
    "\n",
    "# create 2-D array\n",
    "array2 = np.array([[1], [2], [3]])\n",
    "\n",
    "# add arrays of different dimension\n",
    "# size of array1 expands to match with array2\n",
    "sum = array1 + array2\n",
    "\n",
    "print(sum)"
   ]
  },
  {
   "cell_type": "markdown",
   "metadata": {},
   "source": [
    "## Numpy Array Indexing\n",
    "- In NumPy, each element in an array is associated with a number. The number is known as an array index."
   ]
  },
  {
   "cell_type": "code",
   "execution_count": 2,
   "metadata": {},
   "outputs": [
    {
     "name": "stdout",
     "output_type": "stream",
     "text": [
      "1\n",
      "5\n",
      "9\n"
     ]
    }
   ],
   "source": [
    "import numpy as np\n",
    "\n",
    "array1 = np.array([1, 3, 5, 7, 9])\n",
    "\n",
    "# access numpy elements using index\n",
    "print(array1[0])    # prints 1\n",
    "print(array1[2])    # prints 5\n",
    "print(array1[4])    # prints 9"
   ]
  },
  {
   "cell_type": "markdown",
   "metadata": {},
   "source": [
    "## slicing\n",
    "- array[start:stop:step]\n",
    "1. start - index of the first element to be included in the slice\n",
    "2. stop - index of the last element (exclusive)\n",
    "3. step - step size between each element in the slice"
   ]
  },
  {
   "cell_type": "code",
   "execution_count": 1,
   "metadata": {},
   "outputs": [
    {
     "name": "stdout",
     "output_type": "stream",
     "text": [
      "[5 7 8 9]\n",
      "[1 5 8 2]\n",
      "[7 8 9 2 4 6]\n",
      "[1 3 5 7 8 9 2 4 6]\n"
     ]
    }
   ],
   "source": [
    "import numpy as np\n",
    "\n",
    "# create a 1D array \n",
    "array1 = np.array([1, 3, 5, 7, 8, 9, 2, 4, 6])\n",
    "\n",
    "# slice array1 from index 2 to index 6 (exclusive)\n",
    "print(array1[2:6])  # [5 7 8 9]\n",
    "\n",
    "# slice array1 from index 0 to index 8 (exclusive) with a step size of 2\n",
    "print(array1[0:8:2])  # [1 5 8 2]\n",
    "\n",
    "# slice array1 from index 3 up to the last element\n",
    "print(array1[3:])  # [7 8 9 2 4 6]\n",
    "\n",
    "# items from start to end\n",
    "print(array1[:])   # [1 3 5 7 8 9 2 4 6]"
   ]
  },
  {
   "cell_type": "markdown",
   "metadata": {},
   "source": [
    "## Numpy - Iterating Over Arrays\n",
    "- NumPy provides flexible and efficient ways to iterate over arrays of any dimensionality. For a one-dimensional array, iterating is straightforward and similar to iterating over a Python list."
   ]
  },
  {
   "cell_type": "code",
   "execution_count": 3,
   "metadata": {},
   "outputs": [
    {
     "name": "stdout",
     "output_type": "stream",
     "text": [
      "1\n",
      "2\n",
      "3\n",
      "4\n",
      "5\n"
     ]
    }
   ],
   "source": [
    "import numpy as np\n",
    "\n",
    "# Create a 1D array\n",
    "arr = np.array([1, 2, 3, 4, 5])\n",
    "\n",
    "# Iterate over the array\n",
    "for ele in arr:\n",
    "    print(ele)\n"
   ]
  },
  {
   "cell_type": "markdown",
   "metadata": {},
   "source": [
    "- Iteration in 2d aray\n"
   ]
  },
  {
   "cell_type": "code",
   "execution_count": 4,
   "metadata": {},
   "outputs": [
    {
     "name": "stdout",
     "output_type": "stream",
     "text": [
      "[1 2 3]\n",
      "[4 5 6]\n",
      "[7 8 9]\n"
     ]
    }
   ],
   "source": [
    "import numpy as np \n",
    "\n",
    "# Create a 2D array\n",
    "arr_2d = np.array([[1, 2, 3], [4, 5, 6], [7, 8, 9]])\n",
    "\n",
    "# Iterate over rows\n",
    "for row in arr_2d:\n",
    "    print(row)\n"
   ]
  },
  {
   "cell_type": "markdown",
   "metadata": {},
   "source": [
    "- with indexing Iteration "
   ]
  },
  {
   "cell_type": "code",
   "execution_count": 5,
   "metadata": {},
   "outputs": [
    {
     "name": "stdout",
     "output_type": "stream",
     "text": [
      "(0, 0, 0) 9\n",
      "(0, 0, 1) 8\n",
      "(0, 0, 2) 7\n",
      "(0, 0, 3) 6\n",
      "(0, 1, 0) 1\n",
      "(0, 1, 1) 2\n",
      "(0, 1, 2) 3\n",
      "(0, 1, 3) 4\n"
     ]
    }
   ],
   "source": [
    "a=np.array([[[9,8,7,6],[1,2,3,4]]])\n",
    "for i,d in np.ndenumerate(a):\n",
    "    print(i,d)\n"
   ]
  },
  {
   "cell_type": "markdown",
   "metadata": {},
   "source": [
    "## View of Array in NumPy\n",
    "- it doesn't owns the data.\n",
    "- it's a view of the original data."
   ]
  },
  {
   "cell_type": "code",
   "execution_count": 6,
   "metadata": {},
   "outputs": [
    {
     "name": "stdout",
     "output_type": "stream",
     "text": [
      "[1 2 3 4]\n",
      "[1 2 3 4]\n"
     ]
    }
   ],
   "source": [
    "import numpy as np \n",
    "a=np.array([1,2,3,4])\n",
    "vi=a.view()\n",
    "print (a)\n",
    "print (vi)"
   ]
  },
  {
   "cell_type": "code",
   "execution_count": 8,
   "metadata": {},
   "outputs": [
    {
     "name": "stdout",
     "output_type": "stream",
     "text": [
      "[  1 200   3   4]\n",
      "[  1 200   3   4]\n"
     ]
    }
   ],
   "source": [
    "import numpy as np \n",
    "a=np.array([1,2,3,4])\n",
    "vi=a.view()\n",
    "a[1]=200\n",
    "print (a)\n",
    "print (vi)"
   ]
  },
  {
   "cell_type": "markdown",
   "metadata": {},
   "source": [
    "## Copy of Array in NumPy\n",
    "- the copy owns the data.\n",
    "- the copy of an array is in the new array"
   ]
  },
  {
   "cell_type": "code",
   "execution_count": 10,
   "metadata": {},
   "outputs": [
    {
     "name": "stdout",
     "output_type": "stream",
     "text": [
      "[1 2 3 4]\n",
      "[1 2 3 4]\n"
     ]
    }
   ],
   "source": [
    "import numpy as np \n",
    "a=np.array([1,2,3,4])\n",
    "co=a.copy()\n",
    "print (a)\n",
    "print (co)"
   ]
  },
  {
   "cell_type": "code",
   "execution_count": 9,
   "metadata": {},
   "outputs": [
    {
     "name": "stdout",
     "output_type": "stream",
     "text": [
      "[  1 300   3   4]\n",
      "[1 2 3 4]\n"
     ]
    }
   ],
   "source": [
    "import numpy as np \n",
    "a=np.array([1,2,3,4])\n",
    "co=a.copy()\n",
    "a[1]=300\n",
    "print (a)\n",
    "print (co)"
   ]
  },
  {
   "cell_type": "markdown",
   "metadata": {},
   "source": [
    "## joint array\n",
    "1. The concatenate function in NumPy joins two or more arrays along a specified axis. \n",
    "- Syntax:numpy.concatenate((array1, array2, ...), axis=0)\n",
    "2. The stack() function of NumPy joins two or more arrays along a new axis.\n",
    "- Syntax:numpy.stack(arrays, axis=0)"
   ]
  },
  {
   "cell_type": "code",
   "execution_count": 11,
   "metadata": {},
   "outputs": [
    {
     "name": "stdout",
     "output_type": "stream",
     "text": [
      "[1 2 3 4]\n"
     ]
    }
   ],
   "source": [
    "import numpy as np \n",
    "\n",
    "array_1 = np.array([1, 2]) \n",
    "array_2 = np.array([3, 4]) \n",
    "\n",
    "array_new = np.concatenate((array_1, array_2)) \n",
    "print(array_new) \n"
   ]
  },
  {
   "cell_type": "code",
   "execution_count": 12,
   "metadata": {},
   "outputs": [
    {
     "name": "stdout",
     "output_type": "stream",
     "text": [
      "[[1 2 5 6]\n",
      " [3 4 7 8]]\n"
     ]
    }
   ],
   "source": [
    "import numpy as np \n",
    "\n",
    "array_1 = np.array([[1, 2], [3, 4]]) \n",
    "array_2 = np.array([[5, 6], [7, 8]]) \n",
    "\n",
    "array_new = np.concatenate((array_1, array_2), axis=1) \n",
    "print(array_new) \n"
   ]
  },
  {
   "cell_type": "code",
   "execution_count": 16,
   "metadata": {},
   "outputs": [
    {
     "name": "stdout",
     "output_type": "stream",
     "text": [
      "[[1 5]\n",
      " [2 6]\n",
      " [3 7]\n",
      " [4 8]]\n",
      "[1 2 3 4 5 6 7 8]\n",
      "[[1 2 3 4]\n",
      " [5 6 7 8]]\n",
      "[[[1 5]\n",
      "  [2 6]\n",
      "  [3 7]\n",
      "  [4 8]]]\n"
     ]
    }
   ],
   "source": [
    "import numpy as np \n",
    "\n",
    "array_1 = np.array([1, 2, 3, 4]) \n",
    "array_2 = np.array([5, 6, 7, 8]) \n",
    "\n",
    "array_new = np.stack((array_1, array_2), axis=1) \n",
    "d=np.hstack((array_1, array_2))\n",
    "e=np.vstack((array_1, array_2))\n",
    "f=np.dstack((array_1, array_2))\n",
    "print(array_new)\n",
    "print(d)\n",
    "print(e)\n",
    "print(f)\n"
   ]
  },
  {
   "cell_type": "markdown",
   "metadata": {},
   "source": [
    "## Splitting NumPy Arrays\n",
    "- Splitting is reverse operation of Joining."
   ]
  },
  {
   "cell_type": "code",
   "execution_count": 17,
   "metadata": {},
   "outputs": [
    {
     "name": "stdout",
     "output_type": "stream",
     "text": [
      "[array([1, 2]), array([3, 4]), array([5, 6])]\n"
     ]
    }
   ],
   "source": [
    "import numpy as np\n",
    "\n",
    "arr = np.array([1, 2, 3, 4, 5, 6])\n",
    "\n",
    "newarr = np.array_split(arr, 3)\n",
    "\n",
    "print(newarr)"
   ]
  },
  {
   "cell_type": "markdown",
   "metadata": {},
   "source": [
    "## functions in numpy\n",
    "1. search \n",
    "2. search sort\n",
    "3. sort\n",
    "4. filter\n",
    "5. unique\n",
    "6. shuffle\n",
    "7. resize "
   ]
  },
  {
   "cell_type": "code",
   "execution_count": 7,
   "metadata": {},
   "outputs": [
    {
     "name": "stdout",
     "output_type": "stream",
     "text": [
      "(array([1, 3]),)\n",
      "(array([], dtype=int64),)\n"
     ]
    }
   ],
   "source": [
    "import numpy as np\n",
    "a=np.array([1,2,4,2,3,5,6,78,4])\n",
    "x=np.where(a==2)\n",
    "e=np.where((a/2)==0)\n",
    "print(x)\n",
    "print(e)"
   ]
  },
  {
   "cell_type": "markdown",
   "metadata": {},
   "source": [
    "2. search sort"
   ]
  },
  {
   "cell_type": "code",
   "execution_count": 9,
   "metadata": {},
   "outputs": [
    {
     "name": "stdout",
     "output_type": "stream",
     "text": [
      "1\n",
      "6\n",
      "[2 5 6 7]\n"
     ]
    }
   ],
   "source": [
    "import numpy as np\n",
    "a=np.array([1,2,4,2,3,5,6,78,4])\n",
    "x=np.searchsorted(a,2)\n",
    "e=np.searchsorted(a,5,side=\"right\")\n",
    "c=np.searchsorted(a,[2,3,5,6],side=\"right\")\n",
    "print(x)\n",
    "print(e)\n",
    "print(c)"
   ]
  },
  {
   "cell_type": "markdown",
   "metadata": {},
   "source": [
    "3. sort"
   ]
  },
  {
   "cell_type": "code",
   "execution_count": 11,
   "metadata": {},
   "outputs": [
    {
     "name": "stdout",
     "output_type": "stream",
     "text": [
      "[ 1  2  2  3  4  4  5  6 78]\n"
     ]
    }
   ],
   "source": [
    "import numpy as np\n",
    "a=np.array([1,2,4,2,3,5,6,78,4])\n",
    "print(np.sort(a))"
   ]
  },
  {
   "cell_type": "markdown",
   "metadata": {},
   "source": [
    "4. filter"
   ]
  },
  {
   "cell_type": "code",
   "execution_count": 17,
   "metadata": {},
   "outputs": [
    {
     "name": "stdout",
     "output_type": "stream",
     "text": [
      "['a' 'e']\n"
     ]
    }
   ],
   "source": [
    "a = np.array([\"a\", \"b\", \"e\", \"f\"])\n",
    "b = np.array([True, False, True, False])\n",
    "new = a[b]\n",
    "print(new)"
   ]
  },
  {
   "cell_type": "markdown",
   "metadata": {},
   "source": [
    "5. shuffle"
   ]
  },
  {
   "cell_type": "code",
   "execution_count": 21,
   "metadata": {},
   "outputs": [
    {
     "name": "stdout",
     "output_type": "stream",
     "text": [
      "[ 6  4  3  5  5  7  1  6 87  2]\n"
     ]
    }
   ],
   "source": [
    "a = np.array([1, 2, 3, 4, 5, 6, 7, 87, 5, 6])\n",
    "np.random.shuffle(a)\n",
    "print(a)"
   ]
  },
  {
   "cell_type": "markdown",
   "metadata": {},
   "source": [
    "6. unique"
   ]
  },
  {
   "cell_type": "code",
   "execution_count": 22,
   "metadata": {},
   "outputs": [
    {
     "name": "stdout",
     "output_type": "stream",
     "text": [
      "[ 1  2  3  4  4  6  5  6  6  7 87  5  6]\n"
     ]
    }
   ],
   "source": [
    "a = np.array([1, 2, 3, 4, 4, 6, 5, 6, 6, 7, 87, 5, 6])\n",
    "c=np.unique(a)\n",
    "print(a)"
   ]
  },
  {
   "cell_type": "markdown",
   "metadata": {},
   "source": [
    "7. resize"
   ]
  },
  {
   "cell_type": "code",
   "execution_count": 24,
   "metadata": {},
   "outputs": [
    {
     "name": "stdout",
     "output_type": "stream",
     "text": [
      "[[1 2 3]\n",
      " [4 5 6]]\n"
     ]
    }
   ],
   "source": [
    "a=np.array([1,2,3,4,5,6])\n",
    "n=np.resize(a,(2,3))\n",
    "print(n)"
   ]
  },
  {
   "cell_type": "markdown",
   "metadata": {},
   "source": [
    "8. insert"
   ]
  },
  {
   "cell_type": "code",
   "execution_count": 25,
   "metadata": {},
   "outputs": [
    {
     "name": "stdout",
     "output_type": "stream",
     "text": [
      "[0 1 4 3 4]\n"
     ]
    }
   ],
   "source": [
    "import numpy as np\n",
    "\n",
    "# create an array\n",
    "numbers = np.array([0, 1, 3, 4])\n",
    "\n",
    "# insert 4 at index 2\n",
    "array2 = np.insert(numbers, 2, 4)\n",
    "\n",
    "print(array2)"
   ]
  },
  {
   "cell_type": "code",
   "execution_count": 26,
   "metadata": {},
   "outputs": [
    {
     "name": "stdout",
     "output_type": "stream",
     "text": [
      "[0 1 4 5 6 7 2 3]\n"
     ]
    }
   ],
   "source": [
    "import numpy as np\n",
    "\n",
    "array1 = np.array([0, 1, 2, 3])\n",
    "array2 = np.array([4, 5, 6, 7])\n",
    "\n",
    "# insert values from array2 to array1 before index 2\n",
    "array3 = np.insert(array1, 2, array2)\n",
    "\n",
    "print(array3)"
   ]
  },
  {
   "cell_type": "code",
   "execution_count": 27,
   "metadata": {},
   "outputs": [
    {
     "name": "stdout",
     "output_type": "stream",
     "text": [
      "\n",
      "Insert to 2D array at index 2\n",
      " [0 1 4 5 2 3]\n",
      "\n",
      "Insert to 2D array at row 2\n",
      " [[0 1]\n",
      " [2 3]\n",
      " [4 5]]\n",
      "\n",
      "Insert to 2D array at column 2\n",
      " [[0 1 4]\n",
      " [2 3 5]]\n"
     ]
    }
   ],
   "source": [
    "import numpy as np\n",
    "\n",
    "array1 = np.array([[0, 1], [2, 3]])\n",
    "array2 = np.array([4, 5])\n",
    "\n",
    "# insert values to an array before index 2\n",
    "array3 = np.insert(array1, 2, array2)\n",
    " \n",
    "print('\\nInsert to 2D array at index 2\\n', array3)\n",
    "\n",
    "# insert values to an array before index 2 along axis 0\n",
    "array4 = np.insert(array1, 2, array2, 0)\n",
    "\n",
    "print('\\nInsert to 2D array at row 2\\n', array4)\n",
    "\n",
    "# insert values to an array before index 2 along axis 1\n",
    "array5 = np.insert(array1, 2, array2, 1)\n",
    "\n",
    "print('\\nInsert to 2D array at column 2\\n', array5)"
   ]
  },
  {
   "cell_type": "markdown",
   "metadata": {},
   "source": [
    "9. delete"
   ]
  },
  {
   "cell_type": "code",
   "execution_count": 28,
   "metadata": {},
   "outputs": [
    {
     "name": "stdout",
     "output_type": "stream",
     "text": [
      "[0 1 3]\n"
     ]
    }
   ],
   "source": [
    "import numpy as np\n",
    "\n",
    "array1 = np.array([0, 1, 2, 3])\n",
    "\n",
    "# delete at index 2\n",
    "array2 = np.delete(array1, 2)\n",
    "\n",
    "print(array2)\n"
   ]
  },
  {
   "cell_type": "code",
   "execution_count": 29,
   "metadata": {},
   "outputs": [
    {
     "name": "stdout",
     "output_type": "stream",
     "text": [
      "[0 1 3]\n"
     ]
    }
   ],
   "source": [
    "import numpy as np\n",
    "\n",
    "array1 = np.array([0, 1, 2, 3])\n",
    "\n",
    "# delete values from array1 at index 2\n",
    "newArray = np.delete(array1, 2)\n",
    "\n",
    "print(newArray)"
   ]
  },
  {
   "cell_type": "code",
   "execution_count": 30,
   "metadata": {},
   "outputs": [
    {
     "name": "stdout",
     "output_type": "stream",
     "text": [
      "Array after deleting element at index 1\n",
      " [0 2 3]\n",
      "\n",
      "Array after deleting row 1\n",
      " [[0 1]]\n",
      "\n",
      "Array after deleting column 1\n",
      " [[0]\n",
      " [2]]\n"
     ]
    }
   ],
   "source": [
    "import numpy as np\n",
    "\n",
    "array1 = np.array([[0, 1], [2, 3]])\n",
    "\n",
    "# no axis, element at index 1 is deleted\n",
    "array3 = np.delete(array1, 1)\n",
    "\n",
    "print('Array after deleting element at index 1\\n', array3)\n",
    "\n",
    "# axis = 0, row 1 is deleted\n",
    "array4 = np.delete(array1, 1, axis = 0)\n",
    "\n",
    "print('\\nArray after deleting row 1\\n', array4)\n",
    "\n",
    "# axis = 1, column 1 is deleted\n",
    "array5 = np.delete(array1, 1, axis = 1)\n",
    "\n",
    "print('\\nArray after deleting column 1\\n', array5)\n",
    "\n"
   ]
  },
  {
   "cell_type": "markdown",
   "metadata": {},
   "source": [
    "## matrix\n",
    "**A matrix is a two-dimensional data structure where numbers are arranged into rows and columns**"
   ]
  },
  {
   "cell_type": "code",
   "execution_count": 36,
   "metadata": {},
   "outputs": [
    {
     "name": "stdout",
     "output_type": "stream",
     "text": [
      "[[1 3]\n",
      " [5 7]]\n",
      "[[ 2  3  5]\n",
      " [ 7 14 21]\n",
      " [ 1  3  5]]\n"
     ]
    }
   ],
   "source": [
    "matrix1 = np.matrix([[1, 3], [5, 7]])\n",
    "print(matrix1)\n",
    "\n",
    "# Create a 3x3 matrix\n",
    "matrix2 = np.array([[2, 3, 5],\n",
    "                    [7, 14, 21],\n",
    "                    [1, 3, 5]])\n",
    "print(matrix2)"
   ]
  },
  {
   "cell_type": "markdown",
   "metadata": {},
   "source": [
    "**matrix multipication**"
   ]
  },
  {
   "cell_type": "code",
   "execution_count": 37,
   "metadata": {},
   "outputs": [
    {
     "name": "stdout",
     "output_type": "stream",
     "text": [
      "matrix1 x matrix2: \n",
      " [[14 30]\n",
      " [38 86]]\n"
     ]
    }
   ],
   "source": [
    "# create two matrices\n",
    "matrix1 = np.array([[1, 3], \n",
    "             \t\t[5, 7]])\n",
    "             \n",
    "matrix2 = np.array([[2, 6], \n",
    "                    [4, 8]])\n",
    "\n",
    "# calculate the dot product of the two matrices\n",
    "result = np.dot(matrix1, matrix2)\n",
    "\n",
    "print(\"matrix1 x matrix2: \\n\",result)"
   ]
  },
  {
   "cell_type": "markdown",
   "metadata": {},
   "source": [
    "**matrix function**"
   ]
  },
  {
   "cell_type": "markdown",
   "metadata": {},
   "source": [
    "1. transpose\n",
    "**The transpose of a matrix is a new matrix that is obtained by exchanging the rows and columns. For 2x2 matrix,**"
   ]
  },
  {
   "cell_type": "code",
   "execution_count": 39,
   "metadata": {},
   "outputs": [
    {
     "name": "stdout",
     "output_type": "stream",
     "text": [
      "[[1 5]\n",
      " [3 7]]\n"
     ]
    }
   ],
   "source": [
    "import numpy as np\n",
    "\n",
    "# create a matrix\n",
    "matrix1 = np.array([[1, 3], \n",
    "             \t\t[5, 7]])\n",
    "\n",
    "# get transpose of matrix1\n",
    "result = np.transpose(matrix1)\n",
    "\n",
    "print(result)"
   ]
  },
  {
   "cell_type": "markdown",
   "metadata": {},
   "source": [
    "2. tnverrse\n",
    "**In NumPy, we use the np.linalg.inv() function to calculate the inverse of the given matrix.**\n",
    "\n",
    "**However, it is important to note that not all matrices have an inverse. Only square matrices that have a non-zero determinant have an inverse.**"
   ]
  },
  {
   "cell_type": "code",
   "execution_count": 40,
   "metadata": {},
   "outputs": [
    {
     "name": "stdout",
     "output_type": "stream",
     "text": [
      "[[-1.11111111 -0.11111111  0.72222222]\n",
      " [ 0.88888889  0.22222222 -0.61111111]\n",
      " [-0.11111111 -0.11111111  0.22222222]]\n"
     ]
    }
   ],
   "source": [
    "import numpy as np\n",
    "\n",
    "# create a 3x3 square matrix\n",
    "matrix1 = np.array([[1, 3, 5], \n",
    "             \t\t[7, 9, 2],\n",
    "                    [4, 6, 8]])\n",
    "\n",
    "# find inverse of matrix1\n",
    "result = np.linalg.inv(matrix1)\n",
    "\n",
    "print(result)"
   ]
  },
  {
   "cell_type": "markdown",
   "metadata": {},
   "source": [
    "3. Find Determinant of a Matrix in NumPy\n",
    "\n",
    "**We can find the determinant of a square matrix using the np.linalg.det() function to calculate the determinant of the given matrix.**\n"
   ]
  },
  {
   "cell_type": "code",
   "execution_count": 42,
   "metadata": {},
   "outputs": [
    {
     "name": "stdout",
     "output_type": "stream",
     "text": [
      "-5.000000000000001\n"
     ]
    }
   ],
   "source": [
    "import numpy as np\n",
    "\n",
    "# create a matrix\n",
    "matrix1 = np.array([[1, 2, 3], \n",
    "             \t\t[4, 5, 1],\n",
    "                    [2, 3, 4]])\n",
    "\n",
    "# find determinant of matrix1\n",
    "result = np.linalg.det(matrix1)\n",
    "\n",
    "print(result)"
   ]
  }
 ],
 "metadata": {
  "kernelspec": {
   "display_name": "Python 3",
   "language": "python",
   "name": "python3"
  },
  "language_info": {
   "codemirror_mode": {
    "name": "ipython",
    "version": 3
   },
   "file_extension": ".py",
   "mimetype": "text/x-python",
   "name": "python",
   "nbconvert_exporter": "python",
   "pygments_lexer": "ipython3",
   "version": "3.13.1"
  }
 },
 "nbformat": 4,
 "nbformat_minor": 2
}
